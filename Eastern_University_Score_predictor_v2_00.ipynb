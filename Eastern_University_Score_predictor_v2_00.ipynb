{
  "nbformat": 4,
  "nbformat_minor": 0,
  "metadata": {
    "colab": {
      "name": "Eastern University Score predictor v2.00",
      "provenance": [],
      "collapsed_sections": []
    },
    "kernelspec": {
      "name": "python3",
      "display_name": "Python 3"
    }
  },
  "cells": [
    {
      "cell_type": "code",
      "metadata": {
        "id": "jGswz1ThFAuB",
        "colab_type": "code",
        "colab": {
          "base_uri": "https://localhost:8080/",
          "height": 54
        },
        "outputId": "2a4639df-5705-4224-a752-3d0b939f029e"
      },
      "source": [
        "import urllib.request\n",
        "import json\n",
        "\n",
        "data = {\n",
        "        \"Inputs\": {\n",
        "                \"input1\":\n",
        "                [\n",
        "                    {\n",
        "                            'Student ID': \"13230076\",   \n",
        "                            'Gender': \"Female\",   \n",
        "                            'Faculty': \"Science\",   \n",
        "                            'H.S.C': \"English Medium\",   \n",
        "                            'S.S.C (GPA)': \"4.88\",   \n",
        "                            'H.S.C (GPA)': \"4.4\",   \n",
        "                            'Did you ever attend a Coaching center?': \"Yes\",   \n",
        "                            '1st Year Semester 1': \"3\",   \n",
        "                            '1st Year Semester 2': \"2.05\",   \n",
        "                            '1st Year Semester 3': \"2.00\",   \n",
        "                            '2nd Year Semester 1': \"2.85\",   \n",
        "                            '2nd Year Semester 2': \"2.84\",   \n",
        "                            '2nd Year Semester 3': \"2.83\",   \n",
        "                            '3rd Year Semester 1': \"2.84\",   \n",
        "                            '3rd Year Semester 2': \"2.85\",   \n",
        "                            '3rd Year Semester 3': \"2.81\",   \n",
        "                    }\n",
        "                ],\n",
        "        },\n",
        "    \"GlobalParameters\":  {\n",
        "    }\n",
        "}\n",
        "\n",
        "body = str.encode(json.dumps(data))\n",
        "\n",
        "url = 'https://ussouthcentral.services.azureml.net/workspaces/891285f9f40b45f793345ab13678b7b2/services/9f2b5b8c4cd7477285012ebcf81974c9/execute?api-version=2.0&format=swagger'\n",
        "api_key = 'ui608S0XoeJFd6hVob7k4NOklTSmBprRloIXObJnOtWV2eHySVRlIjc+kyJFPb++HSoyIIdOgmUbKv0HuzptBg==' # Replace this with the API key for the web service\n",
        "headers = {'Content-Type':'application/json', 'Authorization':('Bearer '+ api_key)}\n",
        "\n",
        "req = urllib.request.Request(url, body, headers)\n",
        "\n",
        "try:\n",
        "    response = urllib.request.urlopen(req)\n",
        "\n",
        "    result = response.read()\n",
        "    print(result)\n",
        "except urllib.error.HTTPError as error:\n",
        "    print(\"The request failed with status code: \" + str(error.code))\n",
        "\n",
        "    # Print the headers - they include the requert ID and the timestamp, which are useful for debugging the failure\n",
        "    print(error.info())\n",
        "    print(json.loads(error.read().decode(\"utf8\", 'ignore')))"
      ],
      "execution_count": 1,
      "outputs": [
        {
          "output_type": "stream",
          "text": [
            "b'{\"Results\":{\"output1\":[{\"Student ID\":\"13230076\",\"Gender\":\"Female\",\"Faculty\":\"Science\",\"H.S.C\":\"English Medium\",\"S.S.C (GPA)\":\"4.88\",\"H.S.C (GPA)\":\"4.4\",\"Did you ever attend a Coaching center?\":\"Yes\",\"1st Year Semester 1\":\"3\",\"1st Year Semester 2\":\"2.05\",\"1st Year Semester 3\":\"2\",\"2nd Year Semester 1\":\"2.85\",\"2nd Year Semester 2\":\"2.84\",\"2nd Year Semester 3\":\"2.83\",\"3rd Year Semester 1\":\"2.84\",\"Scored Labels\":\"2.7616138458252\"}]}}'\n"
          ],
          "name": "stdout"
        }
      ]
    }
  ]
}